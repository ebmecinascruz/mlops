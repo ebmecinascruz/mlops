{
 "cells": [
  {
   "cell_type": "code",
   "execution_count": 1,
   "id": "081cf814",
   "metadata": {},
   "outputs": [],
   "source": [
    "import pandas as pd\n",
    "import joblib\n",
    "from sklearn.model_selection import train_test_split\n",
    "from sklearn.ensemble import RandomForestClassifier\n",
    "from sklearn.preprocessing import StandardScaler\n",
    "from sklearn.metrics import accuracy_score"
   ]
  },
  {
   "cell_type": "code",
   "execution_count": 9,
   "id": "c1336bf1",
   "metadata": {},
   "outputs": [],
   "source": [
    "# Load all data\n",
    "df = pd.read_csv(\"../data/ObesityDataSet_raw_and_data_sinthetic.csv\")\n",
    "X = df.drop(columns=[\"NObeyesdad\"])\n",
    "y = df[\"NObeyesdad\"]\n",
    "\n",
    "# Encode the full dataset before splitting\n",
    "X_encoded = pd.get_dummies(X, columns=[\n",
    "    \"Gender\", \"family_history_with_overweight\", \"FAVC\",\n",
    "    \"CAEC\", \"SMOKE\", \"SCC\", \"CALC\", \"MTRANS\"\n",
    "])\n",
    "\n",
    "# Save the column order BEFORE the train/test split\n",
    "joblib.dump(X_encoded.columns.tolist(), \"selected_feature_columns.pkl\")\n",
    "\n",
    "# Then scale and split:\n",
    "numerical_cols = X_encoded.select_dtypes(include=[\"int64\", \"float64\"]).columns\n",
    "scaler = StandardScaler()\n",
    "X_encoded[numerical_cols] = scaler.fit_transform(X_encoded[numerical_cols])\n",
    "\n",
    "# Now split\n",
    "X_train, X_test, y_train, y_test = train_test_split(X_encoded, y, test_size=0.2, random_state=42)"
   ]
  },
  {
   "cell_type": "code",
   "execution_count": 10,
   "id": "92bafd61",
   "metadata": {},
   "outputs": [
    {
     "name": "stdout",
     "output_type": "stream",
     "text": [
      "✅ Test Accuracy: 0.9314\n"
     ]
    }
   ],
   "source": [
    "model = RandomForestClassifier(n_estimators=100, random_state=42)\n",
    "model.fit(X_train, y_train)\n",
    "\n",
    "preds = model.predict(X_test)\n",
    "acc = accuracy_score(y_test, preds)\n",
    "print(f\"✅ Test Accuracy: {acc:.4f}\")"
   ]
  },
  {
   "cell_type": "code",
   "execution_count": 11,
   "id": "c5d9c07e",
   "metadata": {},
   "outputs": [
    {
     "data": {
      "text/plain": [
       "['scaler.pkl']"
      ]
     },
     "execution_count": 11,
     "metadata": {},
     "output_type": "execute_result"
    }
   ],
   "source": [
    "joblib.dump(model, \"model_rf33.pkl\")\n",
    "joblib.dump(scaler, \"scaler.pkl\")"
   ]
  },
  {
   "cell_type": "code",
   "execution_count": 18,
   "id": "f415d26c",
   "metadata": {},
   "outputs": [
    {
     "name": "stdout",
     "output_type": "stream",
     "text": [
      "✅ Test Accuracy: 0.9314\n"
     ]
    }
   ],
   "source": [
    "import pandas as pd\n",
    "from sklearn.model_selection import train_test_split\n",
    "from sklearn.ensemble import RandomForestClassifier\n",
    "from sklearn.preprocessing import StandardScaler\n",
    "import joblib\n",
    "import os\n",
    "\n",
    "# 1. Load full dataset\n",
    "df = pd.read_csv(\"../data/ObesityDataSet_raw_and_data_sinthetic.csv\")\n",
    "target_col = \"NObeyesdad\"\n",
    "y = df[target_col]\n",
    "X = df.drop(columns=[target_col])\n",
    "\n",
    "# 2. One-hot encode BEFORE split\n",
    "X_encoded = pd.get_dummies(X, columns=[\n",
    "    \"Gender\", \"family_history_with_overweight\", \"FAVC\",\n",
    "    \"CAEC\", \"SMOKE\", \"SCC\", \"CALC\", \"MTRANS\"\n",
    "])\n",
    "\n",
    "# 3. Save column names BEFORE train-test split\n",
    "os.makedirs(\"../lab8app\", exist_ok=True)\n",
    "joblib.dump(X_encoded.columns.tolist(), \"../lab8app/selected_feature_columns.pkl\")\n",
    "\n",
    "# 4. Train-test split\n",
    "X_train, X_test, y_train, y_test = train_test_split(X_encoded, y, test_size=0.2, random_state=42)\n",
    "\n",
    "# 5. Scale numerical columns (fit only on train, apply to both)\n",
    "numerical_cols = X_train.select_dtypes(include=[\"float64\", \"int64\"]).columns\n",
    "scaler = StandardScaler()\n",
    "X_train[numerical_cols] = scaler.fit_transform(X_train[numerical_cols])\n",
    "X_test[numerical_cols] = scaler.transform(X_test[numerical_cols])\n",
    "\n",
    "# 6. Save the fitted scaler\n",
    "joblib.dump(scaler, \"../lab8app/scaler.pkl\")\n",
    "\n",
    "# 7. Train the model\n",
    "model = RandomForestClassifier(n_estimators=100, random_state=42)\n",
    "model.fit(X_train, y_train)\n",
    "\n",
    "# 8. Save the model\n",
    "joblib.dump(model, \"../lab8app/model_rf33.pkl\")\n",
    "\n",
    "# 9. Evaluate\n",
    "test_accuracy = model.score(X_test, y_test)\n",
    "print(f\"✅ Test Accuracy: {test_accuracy:.4f}\")"
   ]
  },
  {
   "cell_type": "code",
   "execution_count": 23,
   "id": "41c1d43e",
   "metadata": {},
   "outputs": [
    {
     "name": "stdout",
     "output_type": "stream",
     "text": [
      "✅ Test accuracy: 0.9314420803782506\n"
     ]
    }
   ],
   "source": [
    "import pandas as pd\n",
    "from sklearn.model_selection import train_test_split\n",
    "from sklearn.ensemble import RandomForestClassifier\n",
    "from sklearn.preprocessing import StandardScaler\n",
    "import joblib\n",
    "import os\n",
    "\n",
    "df = pd.read_csv(\"../data/ObesityDataSet_raw_and_data_sinthetic.csv\")\n",
    "X = df.drop(columns=[\"NObeyesdad\"])\n",
    "y = df[\"NObeyesdad\"]\n",
    "\n",
    "# Encode all possible dummy variables\n",
    "X_encoded = pd.get_dummies(X, columns=[\n",
    "    \"Gender\", \"family_history_with_overweight\", \"FAVC\",\n",
    "    \"CAEC\", \"SMOKE\", \"SCC\", \"CALC\", \"MTRANS\"\n",
    "])\n",
    "\n",
    "# 🔥 Save the full column list before splitting\n",
    "os.makedirs(\"../lab8app\", exist_ok=True)\n",
    "joblib.dump(X_encoded.columns.tolist(), \"../lab8app/selected_feature_columns.pkl\")\n",
    "\n",
    "# Split\n",
    "X_train, X_test, y_train, y_test = train_test_split(X_encoded, y, test_size=0.2, random_state=42)\n",
    "\n",
    "# Scale numeric columns\n",
    "numeric_cols = X_train.select_dtypes(include=[\"float64\", \"int64\"]).columns\n",
    "# After you select numeric_cols\n",
    "joblib.dump(numerical_cols.tolist(), \"../lab8app/numeric_columns.pkl\")\n",
    "scaler = StandardScaler()\n",
    "X_train[numeric_cols] = scaler.fit_transform(X_train[numeric_cols])\n",
    "X_test[numeric_cols] = scaler.transform(X_test[numeric_cols])\n",
    "joblib.dump(scaler, \"../lab8app/scaler.pkl\")\n",
    "\n",
    "# Train model\n",
    "model = RandomForestClassifier(n_estimators=100, random_state=42)\n",
    "model.fit(X_train, y_train)\n",
    "joblib.dump(model, \"../lab8app/model_rf33.pkl\")\n",
    "\n",
    "# Evaluate\n",
    "print(\"✅ Test accuracy:\", model.score(X_test, y_test))"
   ]
  },
  {
   "cell_type": "code",
   "execution_count": 22,
   "id": "161550e6",
   "metadata": {},
   "outputs": [
    {
     "data": {
      "text/plain": [
       "Index(['Age', 'Height', 'Weight', 'FCVC', 'NCP', 'CH2O', 'FAF', 'TUE',\n",
       "       'Gender_Female', 'Gender_Male', 'family_history_with_overweight_no',\n",
       "       'family_history_with_overweight_yes', 'FAVC_no', 'FAVC_yes',\n",
       "       'CAEC_Always', 'CAEC_Frequently', 'CAEC_Sometimes', 'CAEC_no',\n",
       "       'SMOKE_no', 'SMOKE_yes', 'SCC_no', 'SCC_yes', 'CALC_Always',\n",
       "       'CALC_Frequently', 'CALC_Sometimes', 'CALC_no', 'MTRANS_Automobile',\n",
       "       'MTRANS_Bike', 'MTRANS_Motorbike', 'MTRANS_Public_Transportation',\n",
       "       'MTRANS_Walking'],\n",
       "      dtype='object')"
      ]
     },
     "execution_count": 22,
     "metadata": {},
     "output_type": "execute_result"
    }
   ],
   "source": [
    "X_train.columns"
   ]
  },
  {
   "cell_type": "code",
   "execution_count": null,
   "id": "65ae662e",
   "metadata": {},
   "outputs": [],
   "source": []
  }
 ],
 "metadata": {
  "kernelspec": {
   "display_name": "mlops",
   "language": "python",
   "name": "python3"
  },
  "language_info": {
   "codemirror_mode": {
    "name": "ipython",
    "version": 3
   },
   "file_extension": ".py",
   "mimetype": "text/x-python",
   "name": "python",
   "nbconvert_exporter": "python",
   "pygments_lexer": "ipython3",
   "version": "3.12.10"
  }
 },
 "nbformat": 4,
 "nbformat_minor": 5
}
